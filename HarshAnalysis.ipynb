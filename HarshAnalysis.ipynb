{
 "cells": [
  {
   "cell_type": "code",
   "execution_count": 66,
   "metadata": {},
   "outputs": [],
   "source": [
    "import pandas as pd\n",
    "import numpy as np\n",
    "import matplotlib.pyplot as plt\n",
    "from mpl_toolkits import mplot3d\n",
    "from sklearn.ensemble import RandomForestClassifier\n",
    "from sklearn.model_selection import train_test_split, RandomizedSearchCV, GridSearchCV\n",
    "from sklearn.metrics import accuracy_score\n",
    "import random"
   ]
  },
  {
   "cell_type": "code",
   "execution_count": 2,
   "metadata": {},
   "outputs": [],
   "source": [
    "data = pd.read_csv('diabetes_prediction_dataset.csv', encoding = \"utf-8\")"
   ]
  },
  {
   "cell_type": "markdown",
   "metadata": {},
   "source": [
    "Using Pandas Data Directly"
   ]
  },
  {
   "cell_type": "code",
   "execution_count": 73,
   "metadata": {},
   "outputs": [],
   "source": [
    "X = data[['gender', 'age', 'hypertension', 'heart_disease', 'smoking_history', 'bmi', 'HbA1c_level', 'blood_glucose_level']]\n",
    "y = data['diabetes']\n",
    "X = pd.get_dummies(X)"
   ]
  },
  {
   "cell_type": "code",
   "execution_count": 74,
   "metadata": {},
   "outputs": [],
   "source": [
    "X_train, X_test, y_train, y_test = train_test_split(X, y, test_size=0.3, random_state=42)"
   ]
  },
  {
   "cell_type": "code",
   "execution_count": 75,
   "metadata": {},
   "outputs": [
    {
     "data": {
      "text/html": [
       "<style>#sk-container-id-4 {color: black;background-color: white;}#sk-container-id-4 pre{padding: 0;}#sk-container-id-4 div.sk-toggleable {background-color: white;}#sk-container-id-4 label.sk-toggleable__label {cursor: pointer;display: block;width: 100%;margin-bottom: 0;padding: 0.3em;box-sizing: border-box;text-align: center;}#sk-container-id-4 label.sk-toggleable__label-arrow:before {content: \"▸\";float: left;margin-right: 0.25em;color: #696969;}#sk-container-id-4 label.sk-toggleable__label-arrow:hover:before {color: black;}#sk-container-id-4 div.sk-estimator:hover label.sk-toggleable__label-arrow:before {color: black;}#sk-container-id-4 div.sk-toggleable__content {max-height: 0;max-width: 0;overflow: hidden;text-align: left;background-color: #f0f8ff;}#sk-container-id-4 div.sk-toggleable__content pre {margin: 0.2em;color: black;border-radius: 0.25em;background-color: #f0f8ff;}#sk-container-id-4 input.sk-toggleable__control:checked~div.sk-toggleable__content {max-height: 200px;max-width: 100%;overflow: auto;}#sk-container-id-4 input.sk-toggleable__control:checked~label.sk-toggleable__label-arrow:before {content: \"▾\";}#sk-container-id-4 div.sk-estimator input.sk-toggleable__control:checked~label.sk-toggleable__label {background-color: #d4ebff;}#sk-container-id-4 div.sk-label input.sk-toggleable__control:checked~label.sk-toggleable__label {background-color: #d4ebff;}#sk-container-id-4 input.sk-hidden--visually {border: 0;clip: rect(1px 1px 1px 1px);clip: rect(1px, 1px, 1px, 1px);height: 1px;margin: -1px;overflow: hidden;padding: 0;position: absolute;width: 1px;}#sk-container-id-4 div.sk-estimator {font-family: monospace;background-color: #f0f8ff;border: 1px dotted black;border-radius: 0.25em;box-sizing: border-box;margin-bottom: 0.5em;}#sk-container-id-4 div.sk-estimator:hover {background-color: #d4ebff;}#sk-container-id-4 div.sk-parallel-item::after {content: \"\";width: 100%;border-bottom: 1px solid gray;flex-grow: 1;}#sk-container-id-4 div.sk-label:hover label.sk-toggleable__label {background-color: #d4ebff;}#sk-container-id-4 div.sk-serial::before {content: \"\";position: absolute;border-left: 1px solid gray;box-sizing: border-box;top: 0;bottom: 0;left: 50%;z-index: 0;}#sk-container-id-4 div.sk-serial {display: flex;flex-direction: column;align-items: center;background-color: white;padding-right: 0.2em;padding-left: 0.2em;position: relative;}#sk-container-id-4 div.sk-item {position: relative;z-index: 1;}#sk-container-id-4 div.sk-parallel {display: flex;align-items: stretch;justify-content: center;background-color: white;position: relative;}#sk-container-id-4 div.sk-item::before, #sk-container-id-4 div.sk-parallel-item::before {content: \"\";position: absolute;border-left: 1px solid gray;box-sizing: border-box;top: 0;bottom: 0;left: 50%;z-index: -1;}#sk-container-id-4 div.sk-parallel-item {display: flex;flex-direction: column;z-index: 1;position: relative;background-color: white;}#sk-container-id-4 div.sk-parallel-item:first-child::after {align-self: flex-end;width: 50%;}#sk-container-id-4 div.sk-parallel-item:last-child::after {align-self: flex-start;width: 50%;}#sk-container-id-4 div.sk-parallel-item:only-child::after {width: 0;}#sk-container-id-4 div.sk-dashed-wrapped {border: 1px dashed gray;margin: 0 0.4em 0.5em 0.4em;box-sizing: border-box;padding-bottom: 0.4em;background-color: white;}#sk-container-id-4 div.sk-label label {font-family: monospace;font-weight: bold;display: inline-block;line-height: 1.2em;}#sk-container-id-4 div.sk-label-container {text-align: center;}#sk-container-id-4 div.sk-container {/* jupyter's `normalize.less` sets `[hidden] { display: none; }` but bootstrap.min.css set `[hidden] { display: none !important; }` so we also need the `!important` here to be able to override the default hidden behavior on the sphinx rendered scikit-learn.org. See: https://github.com/scikit-learn/scikit-learn/issues/21755 */display: inline-block !important;position: relative;}#sk-container-id-4 div.sk-text-repr-fallback {display: none;}</style><div id=\"sk-container-id-4\" class=\"sk-top-container\"><div class=\"sk-text-repr-fallback\"><pre>RandomForestClassifier(n_estimators=1000, random_state=42)</pre><b>In a Jupyter environment, please rerun this cell to show the HTML representation or trust the notebook. <br />On GitHub, the HTML representation is unable to render, please try loading this page with nbviewer.org.</b></div><div class=\"sk-container\" hidden><div class=\"sk-item\"><div class=\"sk-estimator sk-toggleable\"><input class=\"sk-toggleable__control sk-hidden--visually\" id=\"sk-estimator-id-4\" type=\"checkbox\" checked><label for=\"sk-estimator-id-4\" class=\"sk-toggleable__label sk-toggleable__label-arrow\">RandomForestClassifier</label><div class=\"sk-toggleable__content\"><pre>RandomForestClassifier(n_estimators=1000, random_state=42)</pre></div></div></div></div></div>"
      ],
      "text/plain": [
       "RandomForestClassifier(n_estimators=1000, random_state=42)"
      ]
     },
     "execution_count": 75,
     "metadata": {},
     "output_type": "execute_result"
    }
   ],
   "source": [
    "clf = RandomForestClassifier(n_estimators=1000, random_state=42)\n",
    "clf.fit(X_train, y_train)"
   ]
  },
  {
   "cell_type": "code",
   "execution_count": 77,
   "metadata": {},
   "outputs": [],
   "source": [
    "predictions = clf.predict(X_test)"
   ]
  },
  {
   "cell_type": "code",
   "execution_count": 78,
   "metadata": {},
   "outputs": [
    {
     "data": {
      "text/plain": [
       "0.9703"
      ]
     },
     "execution_count": 78,
     "metadata": {},
     "output_type": "execute_result"
    }
   ],
   "source": [
    "accuracy = accuracy_score(y_test, predictions)\n",
    "accuracy"
   ]
  },
  {
   "cell_type": "code",
   "execution_count": 79,
   "metadata": {},
   "outputs": [
    {
     "data": {
      "text/plain": [
       "[('age', 106.44974003213441),\n",
       " ('hypertension', 14.798725975566057),\n",
       " ('heart_disease', 11.02640880588388),\n",
       " ('bmi', 123.76433323491548),\n",
       " ('HbA1c_level', 401.2993566541934),\n",
       " ('blood_glucose_level', 319.49957625352306),\n",
       " ('gender_Female', 2.373951905503614),\n",
       " ('gender_Male', 2.4366318970867726),\n",
       " ('gender_Other', 0.0024504405010010856),\n",
       " ('smoking_history_No Info', 4.6644139261790265),\n",
       " ('smoking_history_current', 2.4707781884640134),\n",
       " ('smoking_history_ever', 2.102018408403119),\n",
       " ('smoking_history_former', 3.582689663252006),\n",
       " ('smoking_history_never', 3.3184380830081457),\n",
       " ('smoking_history_not current', 2.2104865313862034)]"
      ]
     },
     "execution_count": 79,
     "metadata": {},
     "output_type": "execute_result"
    }
   ],
   "source": [
    "importance = clf.feature_importances_\n",
    "for i, n in enumerate(importance):\n",
    "    importance[i] *= 1000\n",
    "key_importance = list(zip(X.columns, importance))\n",
    "key_importance"
   ]
  },
  {
   "cell_type": "markdown",
   "metadata": {},
   "source": [
    "Converting to dictionaries --> removing negative data"
   ]
  },
  {
   "cell_type": "code",
   "execution_count": 3,
   "metadata": {},
   "outputs": [],
   "source": [
    "dataset = data.to_dict(orient='records')"
   ]
  },
  {
   "cell_type": "code",
   "execution_count": 4,
   "metadata": {},
   "outputs": [],
   "source": [
    "for d in dataset:\n",
    "    if d['gender'] == 'Male':\n",
    "        d['gender'] = 1\n",
    "    else:\n",
    "        d['gender'] = 0"
   ]
  },
  {
   "cell_type": "code",
   "execution_count": 5,
   "metadata": {},
   "outputs": [],
   "source": [
    "# getting rid of negative data\n",
    "# we have 8500 instances of positive data\n",
    "\n",
    "removeMultiplier = 1 # ratio of negative data to positive data\n",
    "numToRemove = int(len(dataset) - (removeMultiplier * 8500 + 8500))\n",
    "random.shuffle(dataset)\n",
    "\n",
    "dataset.sort(key = lambda d: d['diabetes'], reverse=True)\n",
    "for i in range(numToRemove):\n",
    "    dataset.pop()\n",
    "\n",
    "random.shuffle(dataset)"
   ]
  },
  {
   "cell_type": "code",
   "execution_count": 6,
   "metadata": {},
   "outputs": [],
   "source": [
    "data = pd.DataFrame(dataset)"
   ]
  },
  {
   "cell_type": "code",
   "execution_count": 7,
   "metadata": {},
   "outputs": [
    {
     "data": {
      "text/plain": [
       "['gender',\n",
       " 'age',\n",
       " 'hypertension',\n",
       " 'heart_disease',\n",
       " 'bmi',\n",
       " 'HbA1c_level',\n",
       " 'blood_glucose_level']"
      ]
     },
     "execution_count": 7,
     "metadata": {},
     "output_type": "execute_result"
    }
   ],
   "source": [
    "keys = []\n",
    "for d in dataset[0]:\n",
    "    keys.append(d)\n",
    "keys.remove('diabetes')\n",
    "keys.remove('smoking_history')\n",
    "keys"
   ]
  },
  {
   "cell_type": "code",
   "execution_count": 8,
   "metadata": {},
   "outputs": [
    {
     "data": {
      "text/html": [
       "<div>\n",
       "<style scoped>\n",
       "    .dataframe tbody tr th:only-of-type {\n",
       "        vertical-align: middle;\n",
       "    }\n",
       "\n",
       "    .dataframe tbody tr th {\n",
       "        vertical-align: top;\n",
       "    }\n",
       "\n",
       "    .dataframe thead th {\n",
       "        text-align: right;\n",
       "    }\n",
       "</style>\n",
       "<table border=\"1\" class=\"dataframe\">\n",
       "  <thead>\n",
       "    <tr style=\"text-align: right;\">\n",
       "      <th></th>\n",
       "      <th>gender</th>\n",
       "      <th>age</th>\n",
       "      <th>hypertension</th>\n",
       "      <th>heart_disease</th>\n",
       "      <th>bmi</th>\n",
       "      <th>HbA1c_level</th>\n",
       "      <th>blood_glucose_level</th>\n",
       "    </tr>\n",
       "  </thead>\n",
       "  <tbody>\n",
       "    <tr>\n",
       "      <th>0</th>\n",
       "      <td>1</td>\n",
       "      <td>56.0</td>\n",
       "      <td>0</td>\n",
       "      <td>0</td>\n",
       "      <td>31.35</td>\n",
       "      <td>6.5</td>\n",
       "      <td>145</td>\n",
       "    </tr>\n",
       "    <tr>\n",
       "      <th>1</th>\n",
       "      <td>1</td>\n",
       "      <td>23.0</td>\n",
       "      <td>0</td>\n",
       "      <td>0</td>\n",
       "      <td>27.90</td>\n",
       "      <td>6.2</td>\n",
       "      <td>85</td>\n",
       "    </tr>\n",
       "    <tr>\n",
       "      <th>2</th>\n",
       "      <td>0</td>\n",
       "      <td>75.0</td>\n",
       "      <td>0</td>\n",
       "      <td>1</td>\n",
       "      <td>35.18</td>\n",
       "      <td>6.8</td>\n",
       "      <td>200</td>\n",
       "    </tr>\n",
       "    <tr>\n",
       "      <th>3</th>\n",
       "      <td>0</td>\n",
       "      <td>59.0</td>\n",
       "      <td>0</td>\n",
       "      <td>0</td>\n",
       "      <td>23.80</td>\n",
       "      <td>6.5</td>\n",
       "      <td>140</td>\n",
       "    </tr>\n",
       "    <tr>\n",
       "      <th>4</th>\n",
       "      <td>1</td>\n",
       "      <td>62.0</td>\n",
       "      <td>0</td>\n",
       "      <td>0</td>\n",
       "      <td>29.05</td>\n",
       "      <td>8.8</td>\n",
       "      <td>200</td>\n",
       "    </tr>\n",
       "    <tr>\n",
       "      <th>...</th>\n",
       "      <td>...</td>\n",
       "      <td>...</td>\n",
       "      <td>...</td>\n",
       "      <td>...</td>\n",
       "      <td>...</td>\n",
       "      <td>...</td>\n",
       "      <td>...</td>\n",
       "    </tr>\n",
       "    <tr>\n",
       "      <th>16995</th>\n",
       "      <td>1</td>\n",
       "      <td>43.0</td>\n",
       "      <td>0</td>\n",
       "      <td>0</td>\n",
       "      <td>27.32</td>\n",
       "      <td>5.7</td>\n",
       "      <td>90</td>\n",
       "    </tr>\n",
       "    <tr>\n",
       "      <th>16996</th>\n",
       "      <td>1</td>\n",
       "      <td>43.0</td>\n",
       "      <td>0</td>\n",
       "      <td>0</td>\n",
       "      <td>30.37</td>\n",
       "      <td>9.0</td>\n",
       "      <td>159</td>\n",
       "    </tr>\n",
       "    <tr>\n",
       "      <th>16997</th>\n",
       "      <td>1</td>\n",
       "      <td>73.0</td>\n",
       "      <td>0</td>\n",
       "      <td>1</td>\n",
       "      <td>24.64</td>\n",
       "      <td>8.8</td>\n",
       "      <td>159</td>\n",
       "    </tr>\n",
       "    <tr>\n",
       "      <th>16998</th>\n",
       "      <td>0</td>\n",
       "      <td>55.0</td>\n",
       "      <td>0</td>\n",
       "      <td>0</td>\n",
       "      <td>27.32</td>\n",
       "      <td>6.0</td>\n",
       "      <td>160</td>\n",
       "    </tr>\n",
       "    <tr>\n",
       "      <th>16999</th>\n",
       "      <td>1</td>\n",
       "      <td>51.0</td>\n",
       "      <td>1</td>\n",
       "      <td>0</td>\n",
       "      <td>35.39</td>\n",
       "      <td>6.8</td>\n",
       "      <td>140</td>\n",
       "    </tr>\n",
       "  </tbody>\n",
       "</table>\n",
       "<p>17000 rows × 7 columns</p>\n",
       "</div>"
      ],
      "text/plain": [
       "       gender   age  hypertension  heart_disease    bmi  HbA1c_level  \\\n",
       "0           1  56.0             0              0  31.35          6.5   \n",
       "1           1  23.0             0              0  27.90          6.2   \n",
       "2           0  75.0             0              1  35.18          6.8   \n",
       "3           0  59.0             0              0  23.80          6.5   \n",
       "4           1  62.0             0              0  29.05          8.8   \n",
       "...       ...   ...           ...            ...    ...          ...   \n",
       "16995       1  43.0             0              0  27.32          5.7   \n",
       "16996       1  43.0             0              0  30.37          9.0   \n",
       "16997       1  73.0             0              1  24.64          8.8   \n",
       "16998       0  55.0             0              0  27.32          6.0   \n",
       "16999       1  51.0             1              0  35.39          6.8   \n",
       "\n",
       "       blood_glucose_level  \n",
       "0                      145  \n",
       "1                       85  \n",
       "2                      200  \n",
       "3                      140  \n",
       "4                      200  \n",
       "...                    ...  \n",
       "16995                   90  \n",
       "16996                  159  \n",
       "16997                  159  \n",
       "16998                  160  \n",
       "16999                  140  \n",
       "\n",
       "[17000 rows x 7 columns]"
      ]
     },
     "execution_count": 8,
     "metadata": {},
     "output_type": "execute_result"
    }
   ],
   "source": [
    "X = data[keys]\n",
    "y = data['diabetes']\n",
    "X = pd.get_dummies(X)\n",
    "X"
   ]
  },
  {
   "cell_type": "code",
   "execution_count": 9,
   "metadata": {},
   "outputs": [],
   "source": [
    "X_train, X_test, y_train, y_test = train_test_split(X, y, test_size=0.3, random_state=42)"
   ]
  },
  {
   "cell_type": "code",
   "execution_count": 27,
   "metadata": {},
   "outputs": [
    {
     "data": {
      "text/html": [
       "<style>#sk-container-id-4 {color: black;background-color: white;}#sk-container-id-4 pre{padding: 0;}#sk-container-id-4 div.sk-toggleable {background-color: white;}#sk-container-id-4 label.sk-toggleable__label {cursor: pointer;display: block;width: 100%;margin-bottom: 0;padding: 0.3em;box-sizing: border-box;text-align: center;}#sk-container-id-4 label.sk-toggleable__label-arrow:before {content: \"▸\";float: left;margin-right: 0.25em;color: #696969;}#sk-container-id-4 label.sk-toggleable__label-arrow:hover:before {color: black;}#sk-container-id-4 div.sk-estimator:hover label.sk-toggleable__label-arrow:before {color: black;}#sk-container-id-4 div.sk-toggleable__content {max-height: 0;max-width: 0;overflow: hidden;text-align: left;background-color: #f0f8ff;}#sk-container-id-4 div.sk-toggleable__content pre {margin: 0.2em;color: black;border-radius: 0.25em;background-color: #f0f8ff;}#sk-container-id-4 input.sk-toggleable__control:checked~div.sk-toggleable__content {max-height: 200px;max-width: 100%;overflow: auto;}#sk-container-id-4 input.sk-toggleable__control:checked~label.sk-toggleable__label-arrow:before {content: \"▾\";}#sk-container-id-4 div.sk-estimator input.sk-toggleable__control:checked~label.sk-toggleable__label {background-color: #d4ebff;}#sk-container-id-4 div.sk-label input.sk-toggleable__control:checked~label.sk-toggleable__label {background-color: #d4ebff;}#sk-container-id-4 input.sk-hidden--visually {border: 0;clip: rect(1px 1px 1px 1px);clip: rect(1px, 1px, 1px, 1px);height: 1px;margin: -1px;overflow: hidden;padding: 0;position: absolute;width: 1px;}#sk-container-id-4 div.sk-estimator {font-family: monospace;background-color: #f0f8ff;border: 1px dotted black;border-radius: 0.25em;box-sizing: border-box;margin-bottom: 0.5em;}#sk-container-id-4 div.sk-estimator:hover {background-color: #d4ebff;}#sk-container-id-4 div.sk-parallel-item::after {content: \"\";width: 100%;border-bottom: 1px solid gray;flex-grow: 1;}#sk-container-id-4 div.sk-label:hover label.sk-toggleable__label {background-color: #d4ebff;}#sk-container-id-4 div.sk-serial::before {content: \"\";position: absolute;border-left: 1px solid gray;box-sizing: border-box;top: 0;bottom: 0;left: 50%;z-index: 0;}#sk-container-id-4 div.sk-serial {display: flex;flex-direction: column;align-items: center;background-color: white;padding-right: 0.2em;padding-left: 0.2em;position: relative;}#sk-container-id-4 div.sk-item {position: relative;z-index: 1;}#sk-container-id-4 div.sk-parallel {display: flex;align-items: stretch;justify-content: center;background-color: white;position: relative;}#sk-container-id-4 div.sk-item::before, #sk-container-id-4 div.sk-parallel-item::before {content: \"\";position: absolute;border-left: 1px solid gray;box-sizing: border-box;top: 0;bottom: 0;left: 50%;z-index: -1;}#sk-container-id-4 div.sk-parallel-item {display: flex;flex-direction: column;z-index: 1;position: relative;background-color: white;}#sk-container-id-4 div.sk-parallel-item:first-child::after {align-self: flex-end;width: 50%;}#sk-container-id-4 div.sk-parallel-item:last-child::after {align-self: flex-start;width: 50%;}#sk-container-id-4 div.sk-parallel-item:only-child::after {width: 0;}#sk-container-id-4 div.sk-dashed-wrapped {border: 1px dashed gray;margin: 0 0.4em 0.5em 0.4em;box-sizing: border-box;padding-bottom: 0.4em;background-color: white;}#sk-container-id-4 div.sk-label label {font-family: monospace;font-weight: bold;display: inline-block;line-height: 1.2em;}#sk-container-id-4 div.sk-label-container {text-align: center;}#sk-container-id-4 div.sk-container {/* jupyter's `normalize.less` sets `[hidden] { display: none; }` but bootstrap.min.css set `[hidden] { display: none !important; }` so we also need the `!important` here to be able to override the default hidden behavior on the sphinx rendered scikit-learn.org. See: https://github.com/scikit-learn/scikit-learn/issues/21755 */display: inline-block !important;position: relative;}#sk-container-id-4 div.sk-text-repr-fallback {display: none;}</style><div id=\"sk-container-id-4\" class=\"sk-top-container\"><div class=\"sk-text-repr-fallback\"><pre>RandomForestClassifier(max_depth=10, min_samples_split=10, random_state=42)</pre><b>In a Jupyter environment, please rerun this cell to show the HTML representation or trust the notebook. <br />On GitHub, the HTML representation is unable to render, please try loading this page with nbviewer.org.</b></div><div class=\"sk-container\" hidden><div class=\"sk-item\"><div class=\"sk-estimator sk-toggleable\"><input class=\"sk-toggleable__control sk-hidden--visually\" id=\"sk-estimator-id-4\" type=\"checkbox\" checked><label for=\"sk-estimator-id-4\" class=\"sk-toggleable__label sk-toggleable__label-arrow\">RandomForestClassifier</label><div class=\"sk-toggleable__content\"><pre>RandomForestClassifier(max_depth=10, min_samples_split=10, random_state=42)</pre></div></div></div></div></div>"
      ],
      "text/plain": [
       "RandomForestClassifier(max_depth=10, min_samples_split=10, random_state=42)"
      ]
     },
     "execution_count": 27,
     "metadata": {},
     "output_type": "execute_result"
    }
   ],
   "source": [
    "# Base Model\n",
    "clf = RandomForestClassifier(n_estimators=100, max_depth = 10, min_samples_split = 10, random_state=42)\n",
    "clf.fit(X_train, y_train)"
   ]
  },
  {
   "cell_type": "code",
   "execution_count": 28,
   "metadata": {},
   "outputs": [],
   "source": [
    "predictions = clf.predict(X_test)"
   ]
  },
  {
   "cell_type": "code",
   "execution_count": 29,
   "metadata": {},
   "outputs": [
    {
     "data": {
      "text/plain": [
       "0.9101960784313725"
      ]
     },
     "execution_count": 29,
     "metadata": {},
     "output_type": "execute_result"
    }
   ],
   "source": [
    "accuracy = accuracy_score(y_test, predictions)\n",
    "accuracy"
   ]
  },
  {
   "cell_type": "code",
   "execution_count": 18,
   "metadata": {},
   "outputs": [],
   "source": [
    "importance = clf.feature_importances_\n",
    "for i, n in enumerate(importance):\n",
    "    importance[i] *= 1000\n",
    "key_importance = list(zip(X.columns, importance))"
   ]
  },
  {
   "cell_type": "code",
   "execution_count": 19,
   "metadata": {},
   "outputs": [
    {
     "data": {
      "text/plain": [
       "[('gender', 8.029777556142076),\n",
       " ('age', 176.12621530540858),\n",
       " ('hypertension', 26.54069670500226),\n",
       " ('heart_disease', 12.906994433944435),\n",
       " ('bmi', 136.39694512021237),\n",
       " ('HbA1c_level', 354.0033916064425),\n",
       " ('blood_glucose_level', 285.9959792728479)]"
      ]
     },
     "execution_count": 19,
     "metadata": {},
     "output_type": "execute_result"
    }
   ],
   "source": [
    "key_importance"
   ]
  },
  {
   "cell_type": "code",
   "execution_count": 11,
   "metadata": {},
   "outputs": [],
   "source": [
    "n_estimators = [int(x) for x in np.linspace(start = 100, stop = 2000, num = 20)]\n",
    "max_depth = [int(x) for x in np.linspace(10, 110, num = 11)]\n",
    "max_depth.append(None)\n",
    "min_samples_split = [2, 5, 10]\n",
    "param_grid = {'n_estimators': n_estimators,\n",
    "               'max_depth': max_depth,\n",
    "               'min_samples_split': min_samples_split\n",
    "               }"
   ]
  },
  {
   "cell_type": "code",
   "execution_count": 14,
   "metadata": {},
   "outputs": [
    {
     "name": "stdout",
     "output_type": "stream",
     "text": [
      "100 10 2 0.9090196078431373\n",
      "100 10 5 0.9086274509803921\n",
      "100 10 10 0.9101960784313725\n",
      "100 20 2 0.9029411764705882\n",
      "100 20 5 0.9007843137254902\n",
      "100 20 10 0.9070588235294118\n",
      "100 30 2 0.8998039215686274\n",
      "100 30 5 0.902156862745098\n",
      "100 30 10 0.9052941176470588\n",
      "100 40 2 0.8998039215686274\n",
      "100 40 5 0.902156862745098\n",
      "100 40 10 0.9052941176470588\n",
      "100 50 2 0.8998039215686274\n",
      "100 50 5 0.902156862745098\n",
      "100 50 10 0.9052941176470588\n",
      "100 60 2 0.8998039215686274\n",
      "100 60 5 0.902156862745098\n",
      "100 60 10 0.9052941176470588\n",
      "100 70 2 0.8998039215686274\n",
      "100 70 5 0.902156862745098\n",
      "100 70 10 0.9052941176470588\n",
      "100 80 2 0.8998039215686274\n",
      "100 80 5 0.902156862745098\n",
      "100 80 10 0.9052941176470588\n",
      "100 90 2 0.8998039215686274\n",
      "100 90 5 0.902156862745098\n",
      "100 90 10 0.9052941176470588\n",
      "100 100 2 0.8998039215686274\n",
      "100 100 5 0.902156862745098\n",
      "100 100 10 0.9052941176470588\n",
      "100 110 2 0.8998039215686274\n",
      "100 110 5 0.902156862745098\n",
      "100 110 10 0.9052941176470588\n",
      "100 None 2 0.8998039215686274\n",
      "100 None 5 0.902156862745098\n",
      "100 None 10 0.9052941176470588\n",
      "200 10 2 0.9092156862745098\n",
      "200 10 5 0.9094117647058824\n",
      "200 10 10 0.9086274509803921\n",
      "200 20 2 0.9015686274509804\n",
      "200 20 5 0.9015686274509804\n",
      "200 20 10 0.9064705882352941\n",
      "200 30 2 0.9\n",
      "200 30 5 0.9019607843137255\n",
      "200 30 10 0.9050980392156863\n",
      "200 40 2 0.8994117647058824\n",
      "200 40 5 0.9019607843137255\n",
      "200 40 10 0.9050980392156863\n",
      "200 50 2 0.8994117647058824\n",
      "200 50 5 0.9019607843137255\n",
      "200 50 10 0.9050980392156863\n",
      "200 60 2 0.8994117647058824\n",
      "200 60 5 0.9019607843137255\n",
      "200 60 10 0.9050980392156863\n",
      "200 70 2 0.8994117647058824\n",
      "200 70 5 0.9019607843137255\n",
      "200 70 10 0.9050980392156863\n",
      "200 80 2 0.8994117647058824\n",
      "200 80 5 0.9019607843137255\n",
      "200 80 10 0.9050980392156863\n",
      "200 90 2 0.8994117647058824\n",
      "200 90 5 0.9019607843137255\n",
      "200 90 10 0.9050980392156863\n",
      "200 100 2 0.8994117647058824\n",
      "200 100 5 0.9019607843137255\n",
      "200 100 10 0.9050980392156863\n",
      "200 110 2 0.8994117647058824\n",
      "200 110 5 0.9019607843137255\n",
      "200 110 10 0.9050980392156863\n",
      "200 None 2 0.8994117647058824\n",
      "200 None 5 0.9019607843137255\n",
      "200 None 10 0.9050980392156863\n",
      "300 10 2 0.909607843137255\n",
      "300 10 5 0.9098039215686274\n",
      "300 10 10 0.9088235294117647\n",
      "300 20 2 0.902156862745098\n",
      "300 20 5 0.902156862745098\n",
      "300 20 10 0.9068627450980392\n",
      "300 30 2 0.9017647058823529\n",
      "300 30 5 0.9011764705882352\n",
      "300 30 10 0.9054901960784314\n",
      "300 40 2 0.9017647058823529\n",
      "300 40 5 0.9015686274509804\n",
      "300 40 10 0.9054901960784314\n",
      "300 50 2 0.9017647058823529\n",
      "300 50 5 0.9015686274509804\n",
      "300 50 10 0.9054901960784314\n",
      "300 60 2 0.9017647058823529\n",
      "300 60 5 0.9015686274509804\n",
      "300 60 10 0.9054901960784314\n",
      "300 70 2 0.9017647058823529\n",
      "300 70 5 0.9015686274509804\n",
      "300 70 10 0.9054901960784314\n",
      "300 80 2 0.9017647058823529\n",
      "300 80 5 0.9015686274509804\n",
      "300 80 10 0.9054901960784314\n",
      "300 90 2 0.9017647058823529\n",
      "300 90 5 0.9015686274509804\n",
      "300 90 10 0.9054901960784314\n",
      "300 100 2 0.9017647058823529\n",
      "300 100 5 0.9015686274509804\n",
      "300 100 10 0.9054901960784314\n",
      "300 110 2 0.9017647058823529\n",
      "300 110 5 0.9015686274509804\n",
      "300 110 10 0.9054901960784314\n",
      "300 None 2 0.9017647058823529\n",
      "300 None 5 0.9015686274509804\n",
      "300 None 10 0.9054901960784314\n",
      "400 10 2 0.9098039215686274\n",
      "400 10 5 0.909607843137255\n",
      "400 10 10 0.9088235294117647\n",
      "400 20 2 0.9025490196078432\n",
      "400 20 5 0.9013725490196078\n",
      "400 20 10 0.9074509803921569\n",
      "400 30 2 0.9003921568627451\n",
      "400 30 5 0.902156862745098\n",
      "400 30 10 0.9058823529411765\n",
      "400 40 2 0.9013725490196078\n",
      "400 40 5 0.9015686274509804\n",
      "400 40 10 0.9058823529411765\n",
      "400 50 2 0.9013725490196078\n",
      "400 50 5 0.9015686274509804\n",
      "400 50 10 0.9058823529411765\n",
      "400 60 2 0.9013725490196078\n",
      "400 60 5 0.9015686274509804\n",
      "400 60 10 0.9058823529411765\n",
      "400 70 2 0.9013725490196078\n",
      "400 70 5 0.9015686274509804\n",
      "400 70 10 0.9058823529411765\n",
      "400 80 2 0.9013725490196078\n",
      "400 80 5 0.9015686274509804\n",
      "400 80 10 0.9058823529411765\n",
      "400 90 2 0.9013725490196078\n",
      "400 90 5 0.9015686274509804\n",
      "400 90 10 0.9058823529411765\n",
      "400 100 2 0.9013725490196078\n",
      "400 100 5 0.9015686274509804\n",
      "400 100 10 0.9058823529411765\n",
      "400 110 2 0.9013725490196078\n",
      "400 110 5 0.9015686274509804\n",
      "400 110 10 0.9058823529411765\n",
      "400 None 2 0.9013725490196078\n",
      "400 None 5 0.9015686274509804\n",
      "400 None 10 0.9058823529411765\n",
      "500 10 2 0.9094117647058824\n",
      "500 10 5 0.9094117647058824\n",
      "500 10 10 0.908235294117647\n",
      "500 20 2 0.9017647058823529\n",
      "500 20 5 0.9011764705882352\n",
      "500 20 10 0.9064705882352941\n",
      "500 30 2 0.9015686274509804\n",
      "500 30 5 0.902156862745098\n",
      "500 30 10 0.9064705882352941\n",
      "500 40 2 0.9013725490196078\n",
      "500 40 5 0.9023529411764706\n",
      "500 40 10 0.9064705882352941\n",
      "500 50 2 0.9013725490196078\n",
      "500 50 5 0.9023529411764706\n",
      "500 50 10 0.9064705882352941\n",
      "500 60 2 0.9013725490196078\n",
      "500 60 5 0.9023529411764706\n",
      "500 60 10 0.9064705882352941\n",
      "500 70 2 0.9013725490196078\n",
      "500 70 5 0.9023529411764706\n",
      "500 70 10 0.9064705882352941\n",
      "500 80 2 0.9013725490196078\n",
      "500 80 5 0.9023529411764706\n",
      "500 80 10 0.9064705882352941\n",
      "500 90 2 0.9013725490196078\n",
      "500 90 5 0.9023529411764706\n",
      "500 90 10 0.9064705882352941\n",
      "500 100 2 0.9013725490196078\n",
      "500 100 5 0.9023529411764706\n",
      "500 100 10 0.9064705882352941\n",
      "500 110 2 0.9013725490196078\n",
      "500 110 5 0.9023529411764706\n",
      "500 110 10 0.9064705882352941\n",
      "500 None 2 0.9013725490196078\n",
      "500 None 5 0.9023529411764706\n",
      "500 None 10 0.9064705882352941\n",
      "600 10 2 0.9092156862745098\n",
      "600 10 5 0.9094117647058824\n",
      "600 10 10 0.9084313725490196\n",
      "600 20 2 0.9023529411764706\n",
      "600 20 5 0.9019607843137255\n",
      "600 20 10 0.9064705882352941\n",
      "600 30 2 0.9009803921568628\n",
      "600 30 5 0.9025490196078432\n",
      "600 30 10 0.9054901960784314\n",
      "600 40 2 0.9009803921568628\n",
      "600 40 5 0.9025490196078432\n",
      "600 40 10 0.9054901960784314\n",
      "600 50 2 0.9009803921568628\n",
      "600 50 5 0.9025490196078432\n",
      "600 50 10 0.9054901960784314\n",
      "600 60 2 0.9009803921568628\n",
      "600 60 5 0.9025490196078432\n",
      "600 60 10 0.9054901960784314\n",
      "600 70 2 0.9009803921568628\n",
      "600 70 5 0.9025490196078432\n",
      "600 70 10 0.9054901960784314\n",
      "600 80 2 0.9009803921568628\n",
      "600 80 5 0.9025490196078432\n",
      "600 80 10 0.9054901960784314\n",
      "600 90 2 0.9009803921568628\n",
      "600 90 5 0.9025490196078432\n",
      "600 90 10 0.9054901960784314\n",
      "600 100 2 0.9009803921568628\n",
      "600 100 5 0.9025490196078432\n",
      "600 100 10 0.9054901960784314\n",
      "600 110 2 0.9009803921568628\n",
      "600 110 5 0.9025490196078432\n",
      "600 110 10 0.9054901960784314\n",
      "600 None 2 0.9009803921568628\n",
      "600 None 5 0.9025490196078432\n",
      "600 None 10 0.9054901960784314\n",
      "700 10 2 0.9092156862745098\n",
      "700 10 5 0.9092156862745098\n",
      "700 10 10 0.9084313725490196\n",
      "700 20 2 0.9023529411764706\n",
      "700 20 5 0.9031372549019608\n",
      "700 20 10 0.9064705882352941\n",
      "700 30 2 0.9011764705882352\n",
      "700 30 5 0.9027450980392157\n",
      "700 30 10 0.9047058823529411\n",
      "700 40 2 0.9013725490196078\n",
      "700 40 5 0.9027450980392157\n",
      "700 40 10 0.9047058823529411\n",
      "700 50 2 0.9013725490196078\n",
      "700 50 5 0.9027450980392157\n",
      "700 50 10 0.9047058823529411\n",
      "700 60 2 0.9013725490196078\n",
      "700 60 5 0.9027450980392157\n",
      "700 60 10 0.9047058823529411\n",
      "700 70 2 0.9013725490196078\n",
      "700 70 5 0.9027450980392157\n",
      "700 70 10 0.9047058823529411\n",
      "700 80 2 0.9013725490196078\n",
      "700 80 5 0.9027450980392157\n",
      "700 80 10 0.9047058823529411\n",
      "700 90 2 0.9013725490196078\n",
      "700 90 5 0.9027450980392157\n",
      "700 90 10 0.9047058823529411\n",
      "700 100 2 0.9013725490196078\n",
      "700 100 5 0.9027450980392157\n",
      "700 100 10 0.9047058823529411\n",
      "700 110 2 0.9013725490196078\n",
      "700 110 5 0.9027450980392157\n",
      "700 110 10 0.9047058823529411\n",
      "700 None 2 0.9013725490196078\n",
      "700 None 5 0.9027450980392157\n",
      "700 None 10 0.9047058823529411\n",
      "800 10 2 0.9098039215686274\n",
      "800 10 5 0.9092156862745098\n",
      "800 10 10 0.9090196078431373\n",
      "800 20 2 0.9017647058823529\n",
      "800 20 5 0.902156862745098\n",
      "800 20 10 0.9066666666666666\n",
      "800 30 2 0.9005882352941177\n",
      "800 30 5 0.9017647058823529\n",
      "800 30 10 0.9050980392156863\n",
      "800 40 2 0.9007843137254902\n",
      "800 40 5 0.9023529411764706\n",
      "800 40 10 0.9052941176470588\n",
      "800 50 2 0.9007843137254902\n",
      "800 50 5 0.9023529411764706\n",
      "800 50 10 0.9052941176470588\n",
      "800 60 2 0.9007843137254902\n",
      "800 60 5 0.9023529411764706\n",
      "800 60 10 0.9052941176470588\n",
      "800 70 2 0.9007843137254902\n",
      "800 70 5 0.9023529411764706\n",
      "800 70 10 0.9052941176470588\n",
      "800 80 2 0.9007843137254902\n",
      "800 80 5 0.9023529411764706\n",
      "800 80 10 0.9052941176470588\n",
      "800 90 2 0.9007843137254902\n",
      "800 90 5 0.9023529411764706\n",
      "800 90 10 0.9052941176470588\n",
      "800 100 2 0.9007843137254902\n",
      "800 100 5 0.9023529411764706\n",
      "800 100 10 0.9052941176470588\n",
      "800 110 2 0.9007843137254902\n",
      "800 110 5 0.9023529411764706\n",
      "800 110 10 0.9052941176470588\n",
      "800 None 2 0.9007843137254902\n",
      "800 None 5 0.9023529411764706\n",
      "800 None 10 0.9052941176470588\n",
      "900 10 2 0.9098039215686274\n",
      "900 10 5 0.9090196078431373\n",
      "900 10 10 0.9090196078431373\n",
      "900 20 2 0.9017647058823529\n",
      "900 20 5 0.9019607843137255\n",
      "900 20 10 0.9066666666666666\n",
      "900 30 2 0.9015686274509804\n",
      "900 30 5 0.9027450980392157\n",
      "900 30 10 0.9049019607843137\n",
      "900 40 2 0.9013725490196078\n",
      "900 40 5 0.9023529411764706\n",
      "900 40 10 0.9050980392156863\n",
      "900 50 2 0.9013725490196078\n",
      "900 50 5 0.9023529411764706\n",
      "900 50 10 0.9050980392156863\n",
      "900 60 2 0.9013725490196078\n",
      "900 60 5 0.9023529411764706\n",
      "900 60 10 0.9050980392156863\n",
      "900 70 2 0.9013725490196078\n",
      "900 70 5 0.9023529411764706\n",
      "900 70 10 0.9050980392156863\n",
      "900 80 2 0.9013725490196078\n",
      "900 80 5 0.9023529411764706\n",
      "900 80 10 0.9050980392156863\n",
      "900 90 2 0.9013725490196078\n",
      "900 90 5 0.9023529411764706\n",
      "900 90 10 0.9050980392156863\n",
      "900 100 2 0.9013725490196078\n",
      "900 100 5 0.9023529411764706\n",
      "900 100 10 0.9050980392156863\n",
      "900 110 2 0.9013725490196078\n",
      "900 110 5 0.9023529411764706\n",
      "900 110 10 0.9050980392156863\n",
      "900 None 2 0.9013725490196078\n",
      "900 None 5 0.9023529411764706\n",
      "900 None 10 0.9050980392156863\n",
      "1000 10 2 0.909607843137255\n",
      "1000 10 5 0.9092156862745098\n",
      "1000 10 10 0.9094117647058824\n",
      "1000 20 2 0.9015686274509804\n",
      "1000 20 5 0.9025490196078432\n",
      "1000 20 10 0.9064705882352941\n",
      "1000 30 2 0.9011764705882352\n",
      "1000 30 5 0.9029411764705882\n",
      "1000 30 10 0.9052941176470588\n",
      "1000 40 2 0.9015686274509804\n",
      "1000 40 5 0.9027450980392157\n",
      "1000 40 10 0.9054901960784314\n",
      "1000 50 2 0.9015686274509804\n",
      "1000 50 5 0.9027450980392157\n",
      "1000 50 10 0.9054901960784314\n",
      "1000 60 2 0.9015686274509804\n",
      "1000 60 5 0.9027450980392157\n",
      "1000 60 10 0.9054901960784314\n",
      "1000 70 2 0.9015686274509804\n",
      "1000 70 5 0.9027450980392157\n",
      "1000 70 10 0.9054901960784314\n",
      "1000 80 2 0.9015686274509804\n",
      "1000 80 5 0.9027450980392157\n",
      "1000 80 10 0.9054901960784314\n",
      "1000 90 2 0.9015686274509804\n",
      "1000 90 5 0.9027450980392157\n",
      "1000 90 10 0.9054901960784314\n",
      "1000 100 2 0.9015686274509804\n",
      "1000 100 5 0.9027450980392157\n",
      "1000 100 10 0.9054901960784314\n",
      "1000 110 2 0.9015686274509804\n",
      "1000 110 5 0.9027450980392157\n",
      "1000 110 10 0.9054901960784314\n",
      "1000 None 2 0.9015686274509804\n",
      "1000 None 5 0.9027450980392157\n",
      "1000 None 10 0.9054901960784314\n",
      "1100 10 2 0.9098039215686274\n",
      "1100 10 5 0.909607843137255\n",
      "1100 10 10 0.909607843137255\n",
      "1100 20 2 0.9017647058823529\n",
      "1100 20 5 0.9019607843137255\n",
      "1100 20 10 0.9056862745098039\n",
      "1100 30 2 0.9003921568627451\n",
      "1100 30 5 0.9027450980392157\n",
      "1100 30 10 0.9045098039215687\n",
      "1100 40 2 0.9013725490196078\n",
      "1100 40 5 0.9025490196078432\n"
     ]
    },
    {
     "ename": "KeyboardInterrupt",
     "evalue": "",
     "output_type": "error",
     "traceback": [
      "\u001b[0;31m---------------------------------------------------------------------------\u001b[0m",
      "\u001b[0;31mKeyboardInterrupt\u001b[0m                         Traceback (most recent call last)",
      "\u001b[1;32m/Users/neelamgurnani/Documents/CSE158/CSE158_Assignment2/HarshAnalysis.ipynb Cell 24\u001b[0m line \u001b[0;36m1\n\u001b[1;32m      <a href='vscode-notebook-cell:/Users/neelamgurnani/Documents/CSE158/CSE158_Assignment2/HarshAnalysis.ipynb#X46sZmlsZQ%3D%3D?line=8'>9</a>\u001b[0m \u001b[39mfor\u001b[39;00m samples_split \u001b[39min\u001b[39;00m min_samples_split:\n\u001b[1;32m     <a href='vscode-notebook-cell:/Users/neelamgurnani/Documents/CSE158/CSE158_Assignment2/HarshAnalysis.ipynb#X46sZmlsZQ%3D%3D?line=9'>10</a>\u001b[0m     clf \u001b[39m=\u001b[39m RandomForestClassifier(n_estimators\u001b[39m=\u001b[39mestimator, max_depth\u001b[39m=\u001b[39mdepth, min_samples_split\u001b[39m=\u001b[39msamples_split, random_state \u001b[39m=\u001b[39m \u001b[39m42\u001b[39m)\n\u001b[0;32m---> <a href='vscode-notebook-cell:/Users/neelamgurnani/Documents/CSE158/CSE158_Assignment2/HarshAnalysis.ipynb#X46sZmlsZQ%3D%3D?line=10'>11</a>\u001b[0m     clf\u001b[39m.\u001b[39;49mfit(X_train, y_train)\n\u001b[1;32m     <a href='vscode-notebook-cell:/Users/neelamgurnani/Documents/CSE158/CSE158_Assignment2/HarshAnalysis.ipynb#X46sZmlsZQ%3D%3D?line=11'>12</a>\u001b[0m     predictions \u001b[39m=\u001b[39m clf\u001b[39m.\u001b[39mpredict(X_test)\n\u001b[1;32m     <a href='vscode-notebook-cell:/Users/neelamgurnani/Documents/CSE158/CSE158_Assignment2/HarshAnalysis.ipynb#X46sZmlsZQ%3D%3D?line=12'>13</a>\u001b[0m     accuracy \u001b[39m=\u001b[39m accuracy_score(y_test, predictions)\n",
      "File \u001b[0;32m/Library/Frameworks/Python.framework/Versions/3.11/lib/python3.11/site-packages/sklearn/ensemble/_forest.py:474\u001b[0m, in \u001b[0;36mBaseForest.fit\u001b[0;34m(self, X, y, sample_weight)\u001b[0m\n\u001b[1;32m    463\u001b[0m trees \u001b[39m=\u001b[39m [\n\u001b[1;32m    464\u001b[0m     \u001b[39mself\u001b[39m\u001b[39m.\u001b[39m_make_estimator(append\u001b[39m=\u001b[39m\u001b[39mFalse\u001b[39;00m, random_state\u001b[39m=\u001b[39mrandom_state)\n\u001b[1;32m    465\u001b[0m     \u001b[39mfor\u001b[39;00m i \u001b[39min\u001b[39;00m \u001b[39mrange\u001b[39m(n_more_estimators)\n\u001b[1;32m    466\u001b[0m ]\n\u001b[1;32m    468\u001b[0m \u001b[39m# Parallel loop: we prefer the threading backend as the Cython code\u001b[39;00m\n\u001b[1;32m    469\u001b[0m \u001b[39m# for fitting the trees is internally releasing the Python GIL\u001b[39;00m\n\u001b[1;32m    470\u001b[0m \u001b[39m# making threading more efficient than multiprocessing in\u001b[39;00m\n\u001b[1;32m    471\u001b[0m \u001b[39m# that case. However, for joblib 0.12+ we respect any\u001b[39;00m\n\u001b[1;32m    472\u001b[0m \u001b[39m# parallel_backend contexts set at a higher level,\u001b[39;00m\n\u001b[1;32m    473\u001b[0m \u001b[39m# since correctness does not rely on using threads.\u001b[39;00m\n\u001b[0;32m--> 474\u001b[0m trees \u001b[39m=\u001b[39m Parallel(\n\u001b[1;32m    475\u001b[0m     n_jobs\u001b[39m=\u001b[39;49m\u001b[39mself\u001b[39;49m\u001b[39m.\u001b[39;49mn_jobs,\n\u001b[1;32m    476\u001b[0m     verbose\u001b[39m=\u001b[39;49m\u001b[39mself\u001b[39;49m\u001b[39m.\u001b[39;49mverbose,\n\u001b[1;32m    477\u001b[0m     prefer\u001b[39m=\u001b[39;49m\u001b[39m\"\u001b[39;49m\u001b[39mthreads\u001b[39;49m\u001b[39m\"\u001b[39;49m,\n\u001b[1;32m    478\u001b[0m )(\n\u001b[1;32m    479\u001b[0m     delayed(_parallel_build_trees)(\n\u001b[1;32m    480\u001b[0m         t,\n\u001b[1;32m    481\u001b[0m         \u001b[39mself\u001b[39;49m\u001b[39m.\u001b[39;49mbootstrap,\n\u001b[1;32m    482\u001b[0m         X,\n\u001b[1;32m    483\u001b[0m         y,\n\u001b[1;32m    484\u001b[0m         sample_weight,\n\u001b[1;32m    485\u001b[0m         i,\n\u001b[1;32m    486\u001b[0m         \u001b[39mlen\u001b[39;49m(trees),\n\u001b[1;32m    487\u001b[0m         verbose\u001b[39m=\u001b[39;49m\u001b[39mself\u001b[39;49m\u001b[39m.\u001b[39;49mverbose,\n\u001b[1;32m    488\u001b[0m         class_weight\u001b[39m=\u001b[39;49m\u001b[39mself\u001b[39;49m\u001b[39m.\u001b[39;49mclass_weight,\n\u001b[1;32m    489\u001b[0m         n_samples_bootstrap\u001b[39m=\u001b[39;49mn_samples_bootstrap,\n\u001b[1;32m    490\u001b[0m     )\n\u001b[1;32m    491\u001b[0m     \u001b[39mfor\u001b[39;49;00m i, t \u001b[39min\u001b[39;49;00m \u001b[39menumerate\u001b[39;49m(trees)\n\u001b[1;32m    492\u001b[0m )\n\u001b[1;32m    494\u001b[0m \u001b[39m# Collect newly grown trees\u001b[39;00m\n\u001b[1;32m    495\u001b[0m \u001b[39mself\u001b[39m\u001b[39m.\u001b[39mestimators_\u001b[39m.\u001b[39mextend(trees)\n",
      "File \u001b[0;32m/Library/Frameworks/Python.framework/Versions/3.11/lib/python3.11/site-packages/joblib/parallel.py:1088\u001b[0m, in \u001b[0;36mParallel.__call__\u001b[0;34m(self, iterable)\u001b[0m\n\u001b[1;32m   1085\u001b[0m \u001b[39mif\u001b[39;00m \u001b[39mself\u001b[39m\u001b[39m.\u001b[39mdispatch_one_batch(iterator):\n\u001b[1;32m   1086\u001b[0m     \u001b[39mself\u001b[39m\u001b[39m.\u001b[39m_iterating \u001b[39m=\u001b[39m \u001b[39mself\u001b[39m\u001b[39m.\u001b[39m_original_iterator \u001b[39mis\u001b[39;00m \u001b[39mnot\u001b[39;00m \u001b[39mNone\u001b[39;00m\n\u001b[0;32m-> 1088\u001b[0m \u001b[39mwhile\u001b[39;00m \u001b[39mself\u001b[39;49m\u001b[39m.\u001b[39;49mdispatch_one_batch(iterator):\n\u001b[1;32m   1089\u001b[0m     \u001b[39mpass\u001b[39;00m\n\u001b[1;32m   1091\u001b[0m \u001b[39mif\u001b[39;00m pre_dispatch \u001b[39m==\u001b[39m \u001b[39m\"\u001b[39m\u001b[39mall\u001b[39m\u001b[39m\"\u001b[39m \u001b[39mor\u001b[39;00m n_jobs \u001b[39m==\u001b[39m \u001b[39m1\u001b[39m:\n\u001b[1;32m   1092\u001b[0m     \u001b[39m# The iterable was consumed all at once by the above for loop.\u001b[39;00m\n\u001b[1;32m   1093\u001b[0m     \u001b[39m# No need to wait for async callbacks to trigger to\u001b[39;00m\n\u001b[1;32m   1094\u001b[0m     \u001b[39m# consumption.\u001b[39;00m\n",
      "File \u001b[0;32m/Library/Frameworks/Python.framework/Versions/3.11/lib/python3.11/site-packages/joblib/parallel.py:901\u001b[0m, in \u001b[0;36mParallel.dispatch_one_batch\u001b[0;34m(self, iterator)\u001b[0m\n\u001b[1;32m    899\u001b[0m     \u001b[39mreturn\u001b[39;00m \u001b[39mFalse\u001b[39;00m\n\u001b[1;32m    900\u001b[0m \u001b[39melse\u001b[39;00m:\n\u001b[0;32m--> 901\u001b[0m     \u001b[39mself\u001b[39;49m\u001b[39m.\u001b[39;49m_dispatch(tasks)\n\u001b[1;32m    902\u001b[0m     \u001b[39mreturn\u001b[39;00m \u001b[39mTrue\u001b[39;00m\n",
      "File \u001b[0;32m/Library/Frameworks/Python.framework/Versions/3.11/lib/python3.11/site-packages/joblib/parallel.py:819\u001b[0m, in \u001b[0;36mParallel._dispatch\u001b[0;34m(self, batch)\u001b[0m\n\u001b[1;32m    817\u001b[0m \u001b[39mwith\u001b[39;00m \u001b[39mself\u001b[39m\u001b[39m.\u001b[39m_lock:\n\u001b[1;32m    818\u001b[0m     job_idx \u001b[39m=\u001b[39m \u001b[39mlen\u001b[39m(\u001b[39mself\u001b[39m\u001b[39m.\u001b[39m_jobs)\n\u001b[0;32m--> 819\u001b[0m     job \u001b[39m=\u001b[39m \u001b[39mself\u001b[39;49m\u001b[39m.\u001b[39;49m_backend\u001b[39m.\u001b[39;49mapply_async(batch, callback\u001b[39m=\u001b[39;49mcb)\n\u001b[1;32m    820\u001b[0m     \u001b[39m# A job can complete so quickly than its callback is\u001b[39;00m\n\u001b[1;32m    821\u001b[0m     \u001b[39m# called before we get here, causing self._jobs to\u001b[39;00m\n\u001b[1;32m    822\u001b[0m     \u001b[39m# grow. To ensure correct results ordering, .insert is\u001b[39;00m\n\u001b[1;32m    823\u001b[0m     \u001b[39m# used (rather than .append) in the following line\u001b[39;00m\n\u001b[1;32m    824\u001b[0m     \u001b[39mself\u001b[39m\u001b[39m.\u001b[39m_jobs\u001b[39m.\u001b[39minsert(job_idx, job)\n",
      "File \u001b[0;32m/Library/Frameworks/Python.framework/Versions/3.11/lib/python3.11/site-packages/joblib/_parallel_backends.py:208\u001b[0m, in \u001b[0;36mSequentialBackend.apply_async\u001b[0;34m(self, func, callback)\u001b[0m\n\u001b[1;32m    206\u001b[0m \u001b[39mdef\u001b[39;00m \u001b[39mapply_async\u001b[39m(\u001b[39mself\u001b[39m, func, callback\u001b[39m=\u001b[39m\u001b[39mNone\u001b[39;00m):\n\u001b[1;32m    207\u001b[0m \u001b[39m    \u001b[39m\u001b[39m\"\"\"Schedule a func to be run\"\"\"\u001b[39;00m\n\u001b[0;32m--> 208\u001b[0m     result \u001b[39m=\u001b[39m ImmediateResult(func)\n\u001b[1;32m    209\u001b[0m     \u001b[39mif\u001b[39;00m callback:\n\u001b[1;32m    210\u001b[0m         callback(result)\n",
      "File \u001b[0;32m/Library/Frameworks/Python.framework/Versions/3.11/lib/python3.11/site-packages/joblib/_parallel_backends.py:597\u001b[0m, in \u001b[0;36mImmediateResult.__init__\u001b[0;34m(self, batch)\u001b[0m\n\u001b[1;32m    594\u001b[0m \u001b[39mdef\u001b[39;00m \u001b[39m__init__\u001b[39m(\u001b[39mself\u001b[39m, batch):\n\u001b[1;32m    595\u001b[0m     \u001b[39m# Don't delay the application, to avoid keeping the input\u001b[39;00m\n\u001b[1;32m    596\u001b[0m     \u001b[39m# arguments in memory\u001b[39;00m\n\u001b[0;32m--> 597\u001b[0m     \u001b[39mself\u001b[39m\u001b[39m.\u001b[39mresults \u001b[39m=\u001b[39m batch()\n",
      "File \u001b[0;32m/Library/Frameworks/Python.framework/Versions/3.11/lib/python3.11/site-packages/joblib/parallel.py:288\u001b[0m, in \u001b[0;36mBatchedCalls.__call__\u001b[0;34m(self)\u001b[0m\n\u001b[1;32m    284\u001b[0m \u001b[39mdef\u001b[39;00m \u001b[39m__call__\u001b[39m(\u001b[39mself\u001b[39m):\n\u001b[1;32m    285\u001b[0m     \u001b[39m# Set the default nested backend to self._backend but do not set the\u001b[39;00m\n\u001b[1;32m    286\u001b[0m     \u001b[39m# change the default number of processes to -1\u001b[39;00m\n\u001b[1;32m    287\u001b[0m     \u001b[39mwith\u001b[39;00m parallel_backend(\u001b[39mself\u001b[39m\u001b[39m.\u001b[39m_backend, n_jobs\u001b[39m=\u001b[39m\u001b[39mself\u001b[39m\u001b[39m.\u001b[39m_n_jobs):\n\u001b[0;32m--> 288\u001b[0m         \u001b[39mreturn\u001b[39;00m [func(\u001b[39m*\u001b[39;49margs, \u001b[39m*\u001b[39;49m\u001b[39m*\u001b[39;49mkwargs)\n\u001b[1;32m    289\u001b[0m                 \u001b[39mfor\u001b[39;49;00m func, args, kwargs \u001b[39min\u001b[39;49;00m \u001b[39mself\u001b[39;49m\u001b[39m.\u001b[39;49mitems]\n",
      "File \u001b[0;32m/Library/Frameworks/Python.framework/Versions/3.11/lib/python3.11/site-packages/joblib/parallel.py:288\u001b[0m, in \u001b[0;36m<listcomp>\u001b[0;34m(.0)\u001b[0m\n\u001b[1;32m    284\u001b[0m \u001b[39mdef\u001b[39;00m \u001b[39m__call__\u001b[39m(\u001b[39mself\u001b[39m):\n\u001b[1;32m    285\u001b[0m     \u001b[39m# Set the default nested backend to self._backend but do not set the\u001b[39;00m\n\u001b[1;32m    286\u001b[0m     \u001b[39m# change the default number of processes to -1\u001b[39;00m\n\u001b[1;32m    287\u001b[0m     \u001b[39mwith\u001b[39;00m parallel_backend(\u001b[39mself\u001b[39m\u001b[39m.\u001b[39m_backend, n_jobs\u001b[39m=\u001b[39m\u001b[39mself\u001b[39m\u001b[39m.\u001b[39m_n_jobs):\n\u001b[0;32m--> 288\u001b[0m         \u001b[39mreturn\u001b[39;00m [func(\u001b[39m*\u001b[39;49margs, \u001b[39m*\u001b[39;49m\u001b[39m*\u001b[39;49mkwargs)\n\u001b[1;32m    289\u001b[0m                 \u001b[39mfor\u001b[39;00m func, args, kwargs \u001b[39min\u001b[39;00m \u001b[39mself\u001b[39m\u001b[39m.\u001b[39mitems]\n",
      "File \u001b[0;32m/Library/Frameworks/Python.framework/Versions/3.11/lib/python3.11/site-packages/sklearn/utils/fixes.py:117\u001b[0m, in \u001b[0;36m_FuncWrapper.__call__\u001b[0;34m(self, *args, **kwargs)\u001b[0m\n\u001b[1;32m    115\u001b[0m \u001b[39mdef\u001b[39;00m \u001b[39m__call__\u001b[39m(\u001b[39mself\u001b[39m, \u001b[39m*\u001b[39margs, \u001b[39m*\u001b[39m\u001b[39m*\u001b[39mkwargs):\n\u001b[1;32m    116\u001b[0m     \u001b[39mwith\u001b[39;00m config_context(\u001b[39m*\u001b[39m\u001b[39m*\u001b[39m\u001b[39mself\u001b[39m\u001b[39m.\u001b[39mconfig):\n\u001b[0;32m--> 117\u001b[0m         \u001b[39mreturn\u001b[39;00m \u001b[39mself\u001b[39;49m\u001b[39m.\u001b[39;49mfunction(\u001b[39m*\u001b[39;49margs, \u001b[39m*\u001b[39;49m\u001b[39m*\u001b[39;49mkwargs)\n",
      "File \u001b[0;32m/Library/Frameworks/Python.framework/Versions/3.11/lib/python3.11/site-packages/sklearn/ensemble/_forest.py:172\u001b[0m, in \u001b[0;36m_parallel_build_trees\u001b[0;34m(tree, bootstrap, X, y, sample_weight, tree_idx, n_trees, verbose, class_weight, n_samples_bootstrap)\u001b[0m\n\u001b[1;32m    169\u001b[0m \u001b[39melse\u001b[39;00m:\n\u001b[1;32m    170\u001b[0m     curr_sample_weight \u001b[39m=\u001b[39m sample_weight\u001b[39m.\u001b[39mcopy()\n\u001b[0;32m--> 172\u001b[0m indices \u001b[39m=\u001b[39m _generate_sample_indices(\n\u001b[1;32m    173\u001b[0m     tree\u001b[39m.\u001b[39;49mrandom_state, n_samples, n_samples_bootstrap\n\u001b[1;32m    174\u001b[0m )\n\u001b[1;32m    175\u001b[0m sample_counts \u001b[39m=\u001b[39m np\u001b[39m.\u001b[39mbincount(indices, minlength\u001b[39m=\u001b[39mn_samples)\n\u001b[1;32m    176\u001b[0m curr_sample_weight \u001b[39m*\u001b[39m\u001b[39m=\u001b[39m sample_counts\n",
      "File \u001b[0;32m/Library/Frameworks/Python.framework/Versions/3.11/lib/python3.11/site-packages/sklearn/ensemble/_forest.py:128\u001b[0m, in \u001b[0;36m_generate_sample_indices\u001b[0;34m(random_state, n_samples, n_samples_bootstrap)\u001b[0m\n\u001b[1;32m    124\u001b[0m \u001b[39mdef\u001b[39;00m \u001b[39m_generate_sample_indices\u001b[39m(random_state, n_samples, n_samples_bootstrap):\n\u001b[1;32m    125\u001b[0m \u001b[39m    \u001b[39m\u001b[39m\"\"\"\u001b[39;00m\n\u001b[1;32m    126\u001b[0m \u001b[39m    Private function used to _parallel_build_trees function.\"\"\"\u001b[39;00m\n\u001b[0;32m--> 128\u001b[0m     random_instance \u001b[39m=\u001b[39m check_random_state(random_state)\n\u001b[1;32m    129\u001b[0m     sample_indices \u001b[39m=\u001b[39m random_instance\u001b[39m.\u001b[39mrandint(\u001b[39m0\u001b[39m, n_samples, n_samples_bootstrap)\n\u001b[1;32m    131\u001b[0m     \u001b[39mreturn\u001b[39;00m sample_indices\n",
      "File \u001b[0;32m/Library/Frameworks/Python.framework/Versions/3.11/lib/python3.11/site-packages/sklearn/utils/validation.py:1216\u001b[0m, in \u001b[0;36mcheck_random_state\u001b[0;34m(seed)\u001b[0m\n\u001b[1;32m   1214\u001b[0m     \u001b[39mreturn\u001b[39;00m np\u001b[39m.\u001b[39mrandom\u001b[39m.\u001b[39mmtrand\u001b[39m.\u001b[39m_rand\n\u001b[1;32m   1215\u001b[0m \u001b[39mif\u001b[39;00m \u001b[39misinstance\u001b[39m(seed, numbers\u001b[39m.\u001b[39mIntegral):\n\u001b[0;32m-> 1216\u001b[0m     \u001b[39mreturn\u001b[39;00m np\u001b[39m.\u001b[39;49mrandom\u001b[39m.\u001b[39;49mRandomState(seed)\n\u001b[1;32m   1217\u001b[0m \u001b[39mif\u001b[39;00m \u001b[39misinstance\u001b[39m(seed, np\u001b[39m.\u001b[39mrandom\u001b[39m.\u001b[39mRandomState):\n\u001b[1;32m   1218\u001b[0m     \u001b[39mreturn\u001b[39;00m seed\n",
      "File \u001b[0;32mmtrand.pyx:184\u001b[0m, in \u001b[0;36mnumpy.random.mtrand.RandomState.__init__\u001b[0;34m()\u001b[0m\n",
      "File \u001b[0;32m_mt19937.pyx:130\u001b[0m, in \u001b[0;36mnumpy.random._mt19937.MT19937.__init__\u001b[0;34m()\u001b[0m\n",
      "File \u001b[0;32m/Library/Frameworks/Python.framework/Versions/3.11/lib/python3.11/contextlib.py:81\u001b[0m, in \u001b[0;36mContextDecorator.__call__.<locals>.inner\u001b[0;34m(*args, **kwds)\u001b[0m\n\u001b[1;32m     78\u001b[0m \u001b[39m@wraps\u001b[39m(func)\n\u001b[1;32m     79\u001b[0m \u001b[39mdef\u001b[39;00m \u001b[39minner\u001b[39m(\u001b[39m*\u001b[39margs, \u001b[39m*\u001b[39m\u001b[39m*\u001b[39mkwds):\n\u001b[1;32m     80\u001b[0m     \u001b[39mwith\u001b[39;00m \u001b[39mself\u001b[39m\u001b[39m.\u001b[39m_recreate_cm():\n\u001b[0;32m---> 81\u001b[0m         \u001b[39mreturn\u001b[39;00m func(\u001b[39m*\u001b[39;49margs, \u001b[39m*\u001b[39;49m\u001b[39m*\u001b[39;49mkwds)\n",
      "\u001b[0;31mKeyboardInterrupt\u001b[0m: "
     ]
    }
   ],
   "source": [
    "bestAccuracy = 0\n",
    "bestEstimator = 0\n",
    "bestDepth = 0\n",
    "bestSamples_split = 0\n",
    "accuracies = []\n",
    "\n",
    "for estimator in n_estimators:\n",
    "    for depth in max_depth:\n",
    "        for samples_split in min_samples_split:\n",
    "            clf = RandomForestClassifier(n_estimators=estimator, max_depth=depth, min_samples_split=samples_split, random_state = 42)\n",
    "            clf.fit(X_train, y_train)\n",
    "            predictions = clf.predict(X_test)\n",
    "            accuracy = accuracy_score(y_test, predictions)\n",
    "            accuracies.append(accuracy)\n",
    "            print(estimator, depth, samples_split, accuracy)\n",
    "            if accuracy > bestAccuracy:\n",
    "                bestAccuracy = accuracy\n",
    "                bestEstimator = estimator\n",
    "                bestDepth = depth\n",
    "                bestSamples_split = samples_split"
   ]
  },
  {
   "cell_type": "code",
   "execution_count": 36,
   "metadata": {},
   "outputs": [],
   "source": [
    "estimators_list = []\n",
    "for i in range(1, 11):\n",
    "    for j in range(36):\n",
    "        estimators_list.append(i * 100)"
   ]
  },
  {
   "cell_type": "code",
   "execution_count": 38,
   "metadata": {},
   "outputs": [],
   "source": [
    "depth_list = []\n",
    "for i in range(1, 11):\n",
    "    for j in range(1, 13):\n",
    "        for k in range(3):\n",
    "            depth_list.append(j * 10)"
   ]
  },
  {
   "cell_type": "code",
   "execution_count": 99,
   "metadata": {},
   "outputs": [],
   "source": [
    "samples_split_list = []\n",
    "for i in range(120):\n",
    "    samples_split_list.append(2)\n",
    "    samples_split_list.append(5)\n",
    "    samples_split_list.append(10)"
   ]
  },
  {
   "cell_type": "code",
   "execution_count": 100,
   "metadata": {},
   "outputs": [],
   "source": [
    "x = np.array(estimators_list)\n",
    "y = np.array(depth_list)\n",
    "z = np.array(accuracies)\n",
    "colors = np.array(samples_split_list)"
   ]
  },
  {
   "cell_type": "code",
   "execution_count": 101,
   "metadata": {},
   "outputs": [
    {
     "data": {
      "image/png": "[encoded data removed]",
      "text/plain": [
       "<Figure size 640x480 with 1 Axes>"
      ]
     },
     "metadata": {},
     "output_type": "display_data"
    }
   ],
   "source": [
    "fig = plt.figure()\n",
    "ax = plt.axes(projection='3d')\n",
    "ax.scatter(x, y, z, c=colors)\n",
    "ax.set_title('Number of estimators and max depth vs accuracy')\n",
    "ax.set_xlabel('Number of estimators')\n",
    "ax.set_ylabel('Max Depth')\n",
    "ax.set_zlabel('Accuracy')\n",
    "plt.show()"
   ]
  },
  {
   "cell_type": "code",
   "execution_count": 82,
   "metadata": {},
   "outputs": [],
   "source": []
  },
  {
   "cell_type": "code",
   "execution_count": null,
   "metadata": {},
   "outputs": [],
   "source": []
  }
 ],
 "metadata": {
  "kernelspec": {
   "display_name": "Python 3",
   "language": "python",
   "name": "python3"
  },
  "language_info": {
   "codemirror_mode": {
    "name": "ipython",
    "version": 3
   },
   "file_extension": ".py",
   "mimetype": "text/x-python",
   "name": "python",
   "nbconvert_exporter": "python",
   "pygments_lexer": "ipython3",
   "version": "3.11.3"
  }
 },
 "nbformat": 4,
 "nbformat_minor": 2
}
